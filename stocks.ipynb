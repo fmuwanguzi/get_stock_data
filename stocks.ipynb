{
 "cells": [
  {
   "cell_type": "code",
   "execution_count": 116,
   "metadata": {},
   "outputs": [
    {
     "output_type": "error",
     "ename": "ModuleNotFoundError",
     "evalue": "No module named 'credentials'",
     "traceback": [
      "\u001b[0;31m---------------------------------------------------------------------------\u001b[0m",
      "\u001b[0;31mModuleNotFoundError\u001b[0m                       Traceback (most recent call last)",
      "\u001b[0;32m<ipython-input-116-803976f423e1>\u001b[0m in \u001b[0;36m<module>\u001b[0;34m\u001b[0m\n\u001b[1;32m      5\u001b[0m \u001b[0;32mfrom\u001b[0m \u001b[0mbs4\u001b[0m \u001b[0;32mimport\u001b[0m \u001b[0mBeautifulSoup\u001b[0m\u001b[0;34m\u001b[0m\u001b[0;34m\u001b[0m\u001b[0m\n\u001b[1;32m      6\u001b[0m \u001b[0;32mimport\u001b[0m \u001b[0mdatetime\u001b[0m\u001b[0;34m,\u001b[0m \u001b[0mre\u001b[0m\u001b[0;34m,\u001b[0m \u001b[0mrequests\u001b[0m\u001b[0;34m,\u001b[0m \u001b[0mio\u001b[0m\u001b[0;34m,\u001b[0m \u001b[0mtime\u001b[0m\u001b[0;34m,\u001b[0m \u001b[0mrandom\u001b[0m\u001b[0;34m,\u001b[0m \u001b[0mstring\u001b[0m\u001b[0;34m\u001b[0m\u001b[0;34m\u001b[0m\u001b[0m\n\u001b[0;32m----> 7\u001b[0;31m \u001b[0;32mfrom\u001b[0m \u001b[0mcredentials\u001b[0m \u001b[0;32mimport\u001b[0m \u001b[0memail\u001b[0m\u001b[0;34m,\u001b[0m \u001b[0mpassword\u001b[0m\u001b[0;34m\u001b[0m\u001b[0;34m\u001b[0m\u001b[0m\n\u001b[0m\u001b[1;32m      8\u001b[0m \u001b[0mprint\u001b[0m\u001b[0;34m(\u001b[0m\u001b[0;34m'everything good'\u001b[0m\u001b[0;34m)\u001b[0m\u001b[0;34m\u001b[0m\u001b[0;34m\u001b[0m\u001b[0m\n",
      "\u001b[0;31mModuleNotFoundError\u001b[0m: No module named 'credentials'"
     ]
    }
   ],
   "source": [
    "####  imports  ####\n",
    "from selenium import webdriver\n",
    "from selenium.webdriver.common.keys import Keys\n",
    "from selenium.webdriver.common.action_chains import ActionChains\n",
    "from bs4 import BeautifulSoup\n",
    "import datetime, re, requests, io, time, random, string\n",
    "from credentials import email, password\n",
    "print('everything good')"
   ]
  },
  {
   "cell_type": "code",
   "execution_count": 25,
   "metadata": {},
   "outputs": [],
   "source": [
    "driver = webdriver.Chrome('/Users/felixm/Downloads/chromedriver')\n",
    "time.sleep(3)"
   ]
  },
  {
   "cell_type": "code",
   "execution_count": 29,
   "metadata": {},
   "outputs": [],
   "source": [
    "driver.get('https://wallmine.com')\n",
    "time.sleep(2)"
   ]
  },
  {
   "cell_type": "code",
   "execution_count": 30,
   "metadata": {},
   "outputs": [],
   "source": [
    "driver.find_element_by_xpath('/html/body/main/header/div/ul/li[1]/ul/li[3]/a').click() #click sign in button\n",
    "time.sleep(1)"
   ]
  },
  {
   "cell_type": "code",
   "execution_count": 31,
   "metadata": {},
   "outputs": [],
   "source": [
    "driver.find_element_by_xpath('//*[@id=\"new_user\"]/div[5]/div[1]/div[2]/a').click() # click on sign in with password"
   ]
  },
  {
   "cell_type": "code",
   "execution_count": null,
   "metadata": {},
   "outputs": [],
   "source": [
    "if \"We're glad you're back!\" in driver.page_source:\n",
    "    print('On sign in page')\n",
    "driver.find_element_by_xpath('//*[@id=\"user_email\"]').send_keys(email)\n",
    "driver.find_element_by_xpath('//*[@id=\"user_password\"]').send_keys(password)\n",
    "time.sleep(0.1)\n",
    "driver.find_element_by_xpath('//*[@id=\"new_user\"]/div[5]/div[2]/div[1]/button').click()\n",
    "time.sleep(3)\n",
    "if 'Stock market overview' in driver.page_source:\n",
    "    print('Sign-In Succesful')\n",
    "else:\n",
    "    print('start over app')\n"
   ]
  },
  {
   "cell_type": "code",
   "execution_count": null,
   "metadata": {},
   "outputs": [],
   "source": [
    "def sign_in(email=email, password=password):\n",
    "    driver.get('https://wallmine.com')\n",
    "    time.sleep(2)\n",
    "    driver.find_element_by_xpath('/html/body/main/header/div/ul/li[1]/ul/li[3]/a').click() #click sign in button\n",
    "    time.sleep(1)\n",
    "    driver.find_element_by_xpath('//*[@id=\"new_user\"]/div[5]/div[1]/div[2]/a').click() # click on sign in with password\n",
    "    if \"We're glad you're back!\" in driver.page_source:\n",
    "        print('On sign in page')\n",
    "        driver.find_element_by_xpath('//*[@id=\"user_email\"]').send_keys(email)\n",
    "        driver.find_element_by_xpath('//*[@id=\"user_password\"]').send_keys(password)\n",
    "        time.sleep(0.1)\n",
    "        driver.find_element_by_xpath('//*[@id=\"new_user\"]/div[5]/div[2]/div[1]/button').click()\n",
    "        time.sleep(3)\n",
    "    if 'Stock market overview' in driver.page_source:\n",
    "        print('Sign-In Succesful')\n",
    "    else:\n",
    "        print('start over app')\n"
   ]
  },
  {
   "cell_type": "code",
   "execution_count": null,
   "metadata": {},
   "outputs": [],
   "source": [
    "#sign in function\n",
    "sign_in(email, password)"
   ]
  },
  {
   "cell_type": "code",
   "execution_count": 104,
   "metadata": {},
   "outputs": [],
   "source": [
    "stock_list = [\n",
    "  {'stock_ticker': 'AAPL', 'exchange': 'NASDAQ'},\n",
    "  {'stock_ticker': 'MSFT', 'exchange': 'NASDAQ'},\n",
    "  {'stock_ticker': 'AMZN', 'exchange': 'NASDAQ'},\n",
    "  {'stock_ticker': 'GOOG', 'exchange': 'NASDAQ'},\n",
    "  {'stock_ticker': 'GOOGL', 'exchange': 'NASDAQ'},\n",
    "  {'stock_ticker': 'FB', 'exchange': 'NASDAQ'},\n",
    "  {'stock_ticker': 'BABA', 'exchange': 'NYSE'},\n",
    "  {'stock_ticker': 'TSLA', 'exchange': 'NASDAQ'},\n",
    "  {'stock_ticker': 'BRK', 'exchange': 'NYSE'},\n",
    "  {'stock_ticker': 'BRK', 'exchange': 'NYSE'},\n",
    "  {'stock_ticker': 'TSM', 'exchange': 'NYSE'},\n",
    "  {'stock_ticker': 'V', 'exchange': 'NYSE'},\n",
    "  {'stock_ticker': 'WMT', 'exchange': 'NYSE'},\n",
    "  {'stock_ticker': 'JNJ', 'exchange': 'NYSE'},\n",
    "  {'stock_ticker': 'JPM', 'exchange': 'NYSE'},\n",
    "  {'stock_ticker': 'MA', 'exchange': 'NYSE'},\n",
    "  {'stock_ticker': 'PG', 'exchange': 'NYSE'},\n",
    "  {'stock_ticker': 'UNH', 'exchange': 'NYSE'},\n",
    "  {'stock_ticker': 'NVDA', 'exchange': 'NASDAQ'},\n",
    "  {'stock_ticker': 'DIS', 'exchange': 'NYSE'},\n",
    "  {'stock_ticker': 'HD', 'exchange': 'NYSE'},\n",
    "  {'stock_ticker': 'BAC', 'exchange': 'NYSE'},\n",
    "  {'stock_ticker': 'VZ', 'exchange': 'NYSE'},\n",
    "  {'stock_ticker': 'PYPL', 'exchange': 'NASDAQ'},\n",
    "  {'stock_ticker': 'CMCSA', 'exchange': 'NASDAQ'},\n",
    "  {'stock_ticker': 'INTC', 'exchange': 'NASDAQ'},\n",
    "  {'stock_ticker': 'KO', 'exchange': 'NYSE'},\n",
    "  {'stock_ticker': 'PFE', 'exchange': 'NYSE'},\n",
    "  {'stock_ticker': 'NFLX', 'exchange': 'NASDAQ'},\n",
    "  {'stock_ticker': 'T', 'exchange': 'NYSE'},\n",
    "  {'stock_ticker': 'ADBE', 'exchange': 'NASDAQ'},\n",
    "  {'stock_ticker': 'PDD', 'exchange': 'NASDAQ'},\n",
    "  {'stock_ticker': 'NKE', 'exchange': 'NYSE'},\n",
    "  {'stock_ticker': 'MPNGY', 'exchange': 'NYSEMKT'},\n",
    "  {'stock_ticker': 'MPNGY', 'exchange': 'NASDAQ'},\n",
    "  {'stock_ticker': 'TM', 'exchange': 'NYSE'},\n",
    "  {'stock_ticker': 'MRK', 'exchange': 'NYSE'},\n",
    "  {'stock_ticker': 'NVS', 'exchange': 'NYSE'},\n",
    "  {'stock_ticker': 'CRM', 'exchange': 'NYSE'},\n",
    "  {'stock_ticker': 'XOM', 'exchange': 'NYSE'},\n",
    "  {'stock_ticker': 'ABT', 'exchange': 'NYSE'},\n",
    "  {'stock_ticker': 'CSCO', 'exchange': 'NASDAQ'},\n",
    "  {'stock_ticker': 'ASML', 'exchange': 'NASDAQ'},\n",
    "  {'stock_ticker': 'ABBV', 'exchange': 'NYSE'},\n",
    "  {'stock_ticker': 'TMO', 'exchange': 'NYSE'},\n",
    "  {'stock_ticker': 'PEP', 'exchange': 'NASDAQ'},\n",
    "  {'stock_ticker': 'ORCL', 'exchange': 'NYSE'},\n",
    "  {'stock_ticker': 'CVX', 'exchange': 'NYSE'},\n",
    "  {'stock_ticker': 'PROSY', 'exchange': 'NYSEMKT'},\n",
    "  {'stock_ticker': 'QCOM', 'exchange': 'NASDAQ'},\n",
    "]"
   ]
  },
  {
   "cell_type": "code",
   "execution_count": null,
   "metadata": {},
   "outputs": [],
   "source": [
    "for i in range(len(stock_list)):\n",
    "    each_stock = stock_list[i]\n",
    "    print(f\"{i}: {each_stock.get('stock_ticker')}, exchange: {each_stock.get('exchange')}\")\n",
    "    driver.get(f\"https://wallmine.com/{each_stock.get('exchange')}/{each_stock.get('stock_ticker')}\")\n",
    "    time.sleep(2)"
   ]
  }
 ],
 "metadata": {
  "kernelspec": {
   "display_name": "Python 3",
   "language": "python",
   "name": "python3"
  },
  "language_info": {
   "codemirror_mode": {
    "name": "ipython",
    "version": 3
   },
   "file_extension": ".py",
   "mimetype": "text/x-python",
   "name": "python",
   "nbconvert_exporter": "python",
   "pygments_lexer": "ipython3",
   "version": "3.9.1-final"
  }
 },
 "nbformat": 4,
 "nbformat_minor": 4
}